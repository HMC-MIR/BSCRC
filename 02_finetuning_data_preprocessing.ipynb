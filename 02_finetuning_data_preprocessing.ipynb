{
 "cells": [
  {
   "attachments": {},
   "cell_type": "markdown",
   "id": "3e2aed51",
   "metadata": {},
   "source": [
    "# Encode the binary scores with different encoding schemes"
   ]
  },
  {
   "cell_type": "code",
   "execution_count": 1,
   "id": "0072b0a9",
   "metadata": {},
   "outputs": [],
   "source": [
    "import sys\n",
    "sys.path.append('../../source')\n",
    "\n",
    "from utils import *\n",
    "\n",
    "import pickle\n",
    "import numpy as np\n",
    "import matplotlib.pyplot as plt\n",
    "from tqdm import tqdm\n",
    "\n",
    "import encoders"
   ]
  },
  {
   "cell_type": "code",
   "execution_count": 2,
   "id": "e0521d93",
   "metadata": {},
   "outputs": [],
   "source": [
    "with open(\"/home/abunn/ttmp/fragment_dataset.pkl\", \"rb\") as f:\n",
    "    x_train, y_train, x_valid, y_valid, x_test, y_test = pickle.load(f)"
   ]
  },
  {
   "attachments": {},
   "cell_type": "markdown",
   "id": "9bfcb9db",
   "metadata": {},
   "source": [
    "### Sparse encodings"
   ]
  },
  {
   "cell_type": "code",
   "execution_count": 3,
   "id": "14d693f0",
   "metadata": {},
   "outputs": [
    {
     "name": "stdout",
     "output_type": "stream",
     "text": [
      "char_encoder\n"
     ]
    },
    {
     "name": "stderr",
     "output_type": "stream",
     "text": [
      "  0%|          | 0/27999 [00:00<?, ?it/s]"
     ]
    },
    {
     "name": "stderr",
     "output_type": "stream",
     "text": [
      "100%|██████████| 27999/27999 [00:30<00:00, 904.72it/s]\n",
      "100%|██████████| 6003/6003 [00:06<00:00, 904.19it/s]\n",
      "100%|██████████| 6003/6003 [00:06<00:00, 905.10it/s]\n"
     ]
    },
    {
     "name": "stdout",
     "output_type": "stream",
     "text": [
      "chroma_octave_encoder\n"
     ]
    },
    {
     "name": "stderr",
     "output_type": "stream",
     "text": [
      "100%|██████████| 27999/27999 [00:30<00:00, 906.86it/s]\n",
      "100%|██████████| 6003/6003 [00:06<00:00, 905.09it/s]\n",
      "100%|██████████| 6003/6003 [00:06<00:00, 903.18it/s]\n"
     ]
    },
    {
     "name": "stdout",
     "output_type": "stream",
     "text": [
      "interval_encoder\n"
     ]
    },
    {
     "name": "stderr",
     "output_type": "stream",
     "text": [
      "100%|██████████| 27999/27999 [00:33<00:00, 839.18it/s]\n",
      "100%|██████████| 6003/6003 [00:07<00:00, 841.63it/s]\n",
      "100%|██████████| 6003/6003 [00:07<00:00, 844.40it/s]\n"
     ]
    }
   ],
   "source": [
    "composers = np.unique(y_train).tolist()\n",
    "\n",
    "for enc_name, enc in encoders.sparse_encoders.items():\n",
    "    print(enc_name)\n",
    "    x_train_encoded = []\n",
    "    y_train_encoded = []\n",
    "    for x, y in tqdm(zip(x_train, y_train), total=len(x_train)):\n",
    "        x_train_encoded.append(enc(x))\n",
    "        y_train_encoded.append(composers.index(y))\n",
    "        \n",
    "    x_valid_encoded = []\n",
    "    y_valid_encoded = []\n",
    "    for x, y in tqdm(zip(x_valid, y_valid), total=len(x_valid)):\n",
    "        x_valid_encoded.append(enc(x))\n",
    "        y_valid_encoded.append(composers.index(y))\n",
    "        \n",
    "    x_test_encoded = []\n",
    "    y_test_encoded = []\n",
    "    for x, y in tqdm(zip(x_test, y_test), total=len(x_test)):\n",
    "        x_test_encoded.append(enc(x))\n",
    "        y_test_encoded.append(composers.index(y))\n",
    "    \n",
    "    # Data for classification finetuning\n",
    "    with open(f\"/home/abunn/ttmp/ExplorationWithLLMs/source/03_alec_temp_name/finetuning_data/{enc_name}.pkl\", \"wb\") as f:\n",
    "        pickle.dump((x_train_encoded, y_train_encoded, x_valid_encoded, y_valid_encoded, x_test_encoded, y_test_encoded), f)"
   ]
  },
  {
   "attachments": {},
   "cell_type": "markdown",
   "id": "6282a145",
   "metadata": {},
   "source": [
    "### Dense encodings"
   ]
  },
  {
   "cell_type": "code",
   "execution_count": 4,
   "id": "ccbde8d0",
   "metadata": {},
   "outputs": [
    {
     "name": "stdout",
     "output_type": "stream",
     "text": [
      "[1, 1]\n"
     ]
    },
    {
     "name": "stderr",
     "output_type": "stream",
     "text": [
      "  0%|          | 0/27999 [00:00<?, ?it/s]"
     ]
    },
    {
     "name": "stderr",
     "output_type": "stream",
     "text": [
      "100%|██████████| 27999/27999 [01:02<00:00, 450.04it/s]\n",
      "100%|██████████| 6003/6003 [00:12<00:00, 465.54it/s]\n",
      "100%|██████████| 6003/6003 [00:08<00:00, 675.44it/s]\n"
     ]
    },
    {
     "name": "stdout",
     "output_type": "stream",
     "text": [
      "[1, 2]\n"
     ]
    },
    {
     "name": "stderr",
     "output_type": "stream",
     "text": [
      "100%|██████████| 27999/27999 [00:37<00:00, 750.57it/s]\n",
      "100%|██████████| 6003/6003 [00:06<00:00, 888.39it/s]\n",
      "100%|██████████| 6003/6003 [00:06<00:00, 904.59it/s]\n"
     ]
    },
    {
     "name": "stdout",
     "output_type": "stream",
     "text": [
      "[1, 4]\n"
     ]
    },
    {
     "name": "stderr",
     "output_type": "stream",
     "text": [
      "100%|██████████| 27999/27999 [00:25<00:00, 1116.94it/s]\n",
      "100%|██████████| 6003/6003 [00:05<00:00, 1130.62it/s]\n",
      "100%|██████████| 6003/6003 [00:05<00:00, 1115.71it/s]\n"
     ]
    },
    {
     "name": "stdout",
     "output_type": "stream",
     "text": [
      "[1, 8]\n"
     ]
    },
    {
     "name": "stderr",
     "output_type": "stream",
     "text": [
      "100%|██████████| 27999/27999 [00:19<00:00, 1472.36it/s]\n",
      "100%|██████████| 6003/6003 [00:04<00:00, 1445.78it/s]\n",
      "100%|██████████| 6003/6003 [00:04<00:00, 1461.83it/s]\n"
     ]
    }
   ],
   "source": [
    "composers = np.unique(y_train).tolist()\n",
    "\n",
    "block_sizes = [\n",
    "    [1, 1],\n",
    "    [1, 2],\n",
    "    [1, 4],\n",
    "    [1, 8],\n",
    "]\n",
    "\n",
    "for block_size in block_sizes:\n",
    "    print(block_size)\n",
    "    x_train_encoded = []\n",
    "    y_train_encoded = []\n",
    "    for x, y in tqdm(zip(x_train, y_train), total=len(x_train)):\n",
    "        x_train_encoded.append(encoders.dense_encoder(x, block_size=block_size))\n",
    "        y_train_encoded.append(composers.index(y))\n",
    "        \n",
    "    x_valid_encoded = []\n",
    "    y_valid_encoded = []\n",
    "    for x, y in tqdm(zip(x_valid, y_valid), total=len(x_valid)):\n",
    "        x_valid_encoded.append(encoders.dense_encoder(x, block_size=block_size))\n",
    "        y_valid_encoded.append(composers.index(y))\n",
    "    \n",
    "    x_test_encoded = []\n",
    "    y_test_encoded = []\n",
    "    for x, y in tqdm(zip(x_test, y_test), total=len(x_test)):\n",
    "        x_test_encoded.append(encoders.dense_encoder(x, block_size=block_size))\n",
    "        y_test_encoded.append(composers.index(y))\n",
    "    \n",
    "    # Data for classification finetuning\n",
    "    with open(f\"/home/abunn/ttmp/ExplorationWithLLMs/source/03_alec_temp_name/finetuning_data/dense_{block_size[0]}_{block_size[1]}.pkl\", \"wb\") as f:\n",
    "        pickle.dump((x_train_encoded, y_train_encoded, x_valid_encoded, y_valid_encoded, x_test_encoded, y_test_encoded), f)"
   ]
  },
  {
   "attachments": {},
   "cell_type": "markdown",
   "id": "554e1f5d",
   "metadata": {},
   "source": [
    "# Get an example from each encoding scheme"
   ]
  },
  {
   "cell_type": "code",
   "execution_count": 5,
   "id": "3efade06",
   "metadata": {},
   "outputs": [
    {
     "data": {
      "image/png": "[encoded data removed]",
      "text/plain": [
       "<Figure size 1000x1000 with 1 Axes>"
      ]
     },
     "metadata": {},
     "output_type": "display_data"
    }
   ],
   "source": [
    "visualize_bootleg_score(merge_staff_overlaps(x_train[0]).T, lines=[13, 15, 17, 19, 21, 25, 27, 29, 31, 33])"
   ]
  },
  {
   "cell_type": "code",
   "execution_count": 6,
   "id": "f7efe8aa",
   "metadata": {},
   "outputs": [
    {
     "name": "stdout",
     "output_type": "stream",
     "text": [
      "SPARSE\n",
      "\n",
      "Encoder: char_encoder\n",
      "\n",
      "('f | Se | V | Tf | U | Qe | N | J | TXcdf | e | l | Xg | i | Yh | Wf | Uf | h | Xg | Se | Tc | f | U | R | N | UWf | i | h | i | j | k | j | k | l | UWm | h | i | j | k | j | k | l | UWm | Yd | Rc | U | R | N | Ubd | i | l | S | i | Th | Rm | Pf | h | Sg | Ni | Oi | ej | P | M | I | QSUXb', 3)\n",
      "\n",
      "Encoder: chroma_octave_encoder\n",
      "\n",
      "('D5 | E3-C5 | A4 | F3-D5 | G3 | C3-C5 | G2 | C2 | F3-C4-A5-B5-D5 | C5 | C6 | C4-E5 | G5 | D4-F5 | B4-D5 | G3-D5 | F5 | C4-E5 | E3-C5 | F3-A5 | D5 | G3 | D3 | G2 | G3-B4-D5 | G5 | F5 | G5 | A6 | B6 | A6 | B6 | C6 | G3-B4-D6 | F5 | G5 | A6 | B6 | A6 | B6 | C6 | G3-B4-D6 | D4-B5 | D3-A5 | G3 | D3 | G2 | G3-G4-B5 | G5 | C6 | E3 | G5 | F3-F5 | D3-D6 | B3-D5 | F5 | E3-E5 | G2-G5 | A3-G5 | C5-A6 | B3 | F2 | B2 | C3-E3-G3-C4-G4', 3)\n",
      "\n",
      "Encoder: interval_encoder\n",
      "\n",
      "('D5 | E3-12 | A4 | F3-12 | G3 | C3-14 | G2 | C2 | F3-4-9-10-12 | C5 | C6 | C4-9 | G5 | D4-9 | B4-9 | G3-11 | F5 | C4-9 | E3-12 | F3-9 | D5 | G3 | D3 | G2 | G3-2-11 | G5 | F5 | G5 | A6 | B6 | A6 | B6 | C6 | G3-2-18 | F5 | G5 | A6 | B6 | A6 | B6 | C6 | G3-2-18 | D4-5 | D3-11 | G3 | D3 | G2 | G3-7-9 | G5 | C6 | E3 | G5 | F3-14 | D3-21 | B3-16 | F5 | E3-14 | G2-21 | A3-20 | C5-5 | B3 | F2 | B2 | C3-2-4-7-11', 3)\n",
      "\n",
      "DENSE\n",
      "\n",
      "Block size: [1, 1]\n",
      "\n",
      "('❌❌❌❌❌❌❌❌❌❌❌❌❌❌❌❌❌❌❌❌❌❌❌❌❌❌❌❌❌❌❌❍❌❌❌❌❌❌❌❌❌❌❌❌❌❌❌❌❌❌❌❌ ❌❌❌❌❌❌❌❌❌❌❌❌❌❌❌❌❌❌❍❌❌❌❌❌❌❌❌❌❌❌❍❌❌❌❌❌❌❌❌❌❌❌❌❌❌❌❌❌❌❌❌❌ ❌❌❌❌❌❌❌❌❌❌❌❌❌❌❌❌❌❌❌❌❌❍❌❌❌❌❌❌❌❌❌❌❌❌❌❌❌❌❌❌❌❌❌❌❌❌❌❌❌❌❌❌ ❌❌❌❌❌❌❌❌❌❌❌❌❌❌❌❌❌❌❌❍❌❌❌❌❌❌❌❌❌❌❌❍❌❌❌❌❌❌❌❌❌❌❌❌❌❌❌❌❌❌❌❌ ❌❌❌❌❌❌❌❌❌❌❌❌❌❌❌❌❌❌❌❌❍❌❌❌❌❌❌❌❌❌❌❌❌❌❌❌❌❌❌❌❌❌❌❌❌❌❌❌❌❌❌❌ ❌❌❌❌❌❌❌❌❌❌❌❌❌❌❌❌❍❌❌❌❌❌❌❌❌❌❌❌❌❌❍❌❌❌❌❌❌❌❌❌❌❌❌❌❌❌❌❌❌❌❌❌ ❌❌❌❌❌❌❌❌❌❌❌❌❌❍❌❌❌❌❌❌❌❌❌❌❌❌❌❌❌❌❌❌❌❌❌❌❌❌❌❌❌❌❌❌❌❌❌❌❌❌❌❌ ❌❌❌❌❌❌❌❌❌❍❌❌❌❌❌❌❌❌❌❌❌❌❌❌❌❌❌❌❌❌❌❌❌❌❌❌❌❌❌❌❌❌❌❌❌❌❌❌❌❌❌❌ ❌❌❌❌❌❌❌❌❌❌❌❌❌❌❌❌❌❌❌❍❌❌❌❍❌❌❌❌❍❍❌❍❌❌❌❌❌❌❌❌❌❌❌❌❌❌❌❌❌❌❌❌ ❌❌❌❌❌❌❌❌❌❌❌❌❌❌❌❌❌❌❌❌❌❌❌❌❌❌❌❌❌❌❍❌❌❌❌❌❌❌❌❌❌❌❌❌❌❌❌❌❌❌❌❌ ❌❌❌❌❌❌❌❌❌❌❌❌❌❌❌❌❌❌❌❌❌❌❌❌❌❌❌❌❌❌❌❌❌❌❌❌❌❍❌❌❌❌❌❌❌❌❌❌❌❌❌❌ ❌❌❌❌❌❌❌❌❌❌❌❌❌❌❌❌❌❌❌❌❌❌❌❍❌❌❌❌❌❌❌❌❍❌❌❌❌❌❌❌❌❌❌❌❌❌❌❌❌❌❌❌ ❌❌❌❌❌❌❌❌❌❌❌❌❌❌❌❌❌❌❌❌❌❌❌❌❌❌❌❌❌❌❌❌❌❌❍❌❌❌❌❌❌❌❌❌❌❌❌❌❌❌❌❌ ❌❌❌❌❌❌❌❌❌❌❌❌❌❌❌❌❌❌❌❌❌❌❌❌❍❌❌❌❌❌❌❌❌❍❌❌❌❌❌❌❌❌❌❌❌❌❌❌❌❌❌❌ ❌❌❌❌❌❌❌❌❌❌❌❌❌❌❌❌❌❌❌❌❌❌❍❌❌❌❌❌❌❌❌❍❌❌❌❌❌❌❌❌❌❌❌❌❌❌❌❌❌❌❌❌ ❌❌❌❌❌❌❌❌❌❌❌❌❌❌❌❌❌❌❌❌❍❌❌❌❌❌❌❌❌❌❌❍❌❌❌❌❌❌❌❌❌❌❌❌❌❌❌❌❌❌❌❌ ❌❌❌❌❌❌❌❌❌❌❌❌❌❌❌❌❌❌❌❌❌❌❌❌❌❌❌❌❌❌❌❌❌❍❌❌❌❌❌❌❌❌❌❌❌❌❌❌❌❌❌❌ ❌❌❌❌❌❌❌❌❌❌❌❌❌❌❌❌❌❌❌❌❌❌❌❍❌❌❌❌❌❌❌❌❍❌❌❌❌❌❌❌❌❌❌❌❌❌❌❌❌❌❌❌ ❌❌❌❌❌❌❌❌❌❌❌❌❌❌❌❌❌❌❍❌❌❌❌❌❌❌❌❌❌❌❍❌❌❌❌❌❌❌❌❌❌❌❌❌❌❌❌❌❌❌❌❌ ❌❌❌❌❌❌❌❌❌❌❌❌❌❌❌❌❌❌❌❍❌❌❌❌❌❌❌❌❍❌❌❌❌❌❌❌❌❌❌❌❌❌❌❌❌❌❌❌❌❌❌❌ ❌❌❌❌❌❌❌❌❌❌❌❌❌❌❌❌❌❌❌❌❌❌❌❌❌❌❌❌❌❌❌❍❌❌❌❌❌❌❌❌❌❌❌❌❌❌❌❌❌❌❌❌ ❌❌❌❌❌❌❌❌❌❌❌❌❌❌❌❌❌❌❌❌❍❌❌❌❌❌❌❌❌❌❌❌❌❌❌❌❌❌❌❌❌❌❌❌❌❌❌❌❌❌❌❌ ❌❌❌❌❌❌❌❌❌❌❌❌❌❌❌❌❌❍❌❌❌❌❌❌❌❌❌❌❌❌❌❌❌❌❌❌❌❌❌❌❌❌❌❌❌❌❌❌❌❌❌❌ ❌❌❌❌❌❌❌❌❌❌❌❌❌❍❌❌❌❌❌❌❌❌❌❌❌❌❌❌❌❌❌❌❌❌❌❌❌❌❌❌❌❌❌❌❌❌❌❌❌❌❌❌ ❌❌❌❌❌❌❌❌❌❌❌❌❌❌❌❌❌❌❌❌❍❌❍❌❌❌❌❌❌❌❌❍❌❌❌❌❌❌❌❌❌❌❌❌❌❌❌❌❌❌❌❌ ❌❌❌❌❌❌❌❌❌❌❌❌❌❌❌❌❌❌❌❌❌❌❌❌❌❌❌❌❌❌❌❌❌❌❍❌❌❌❌❌❌❌❌❌❌❌❌❌❌❌❌❌ ❌❌❌❌❌❌❌❌❌❌❌❌❌❌❌❌❌❌❌❌❌❌❌❌❌❌❌❌❌❌❌❌❌❍❌❌❌❌❌❌❌❌❌❌❌❌❌❌❌❌❌❌ ❌❌❌❌❌❌❌❌❌❌❌❌❌❌❌❌❌❌❌❌❌❌❌❌❌❌❌❌❌❌❌❌❌❌❍❌❌❌❌❌❌❌❌❌❌❌❌❌❌❌❌❌ ❌❌❌❌❌❌❌❌❌❌❌❌❌❌❌❌❌❌❌❌❌❌❌❌❌❌❌❌❌❌❌❌❌❌❌❍❌❌❌❌❌❌❌❌❌❌❌❌❌❌❌❌ ❌❌❌❌❌❌❌❌❌❌❌❌❌❌❌❌❌❌❌❌❌❌❌❌❌❌❌❌❌❌❌❌❌❌❌❌❍❌❌❌❌❌❌❌❌❌❌❌❌❌❌❌ ❌❌❌❌❌❌❌❌❌❌❌❌❌❌❌❌❌❌❌❌❌❌❌❌❌❌❌❌❌❌❌❌❌❌❌❍❌❌❌❌❌❌❌❌❌❌❌❌❌❌❌❌ ❌❌❌❌❌❌❌❌❌❌❌❌❌❌❌❌❌❌❌❌❌❌❌❌❌❌❌❌❌❌❌❌❌❌❌❌❍❌❌❌❌❌❌❌❌❌❌❌❌❌❌❌ ❌❌❌❌❌❌❌❌❌❌❌❌❌❌❌❌❌❌❌❌❌❌❌❌❌❌❌❌❌❌❌❌❌❌❌❌❌❍❌❌❌❌❌❌❌❌❌❌❌❌❌❌ ❌❌❌❌❌❌❌❌❌❌❌❌❌❌❌❌❌❌❌❌❍❌❍❌❌❌❌❌❌❌❌❌❌❌❌❌❌❌❍❌❌❌❌❌❌❌❌❌❌❌❌❌ ❌❌❌❌❌❌❌❌❌❌❌❌❌❌❌❌❌❌❌❌❌❌❌❌❌❌❌❌❌❌❌❌❌❍❌❌❌❌❌❌❌❌❌❌❌❌❌❌❌❌❌❌ ❌❌❌❌❌❌❌❌❌❌❌❌❌❌❌❌❌❌❌❌❌❌❌❌❌❌❌❌❌❌❌❌❌❌❍❌❌❌❌❌❌❌❌❌❌❌❌❌❌❌❌❌ ❌❌❌❌❌❌❌❌❌❌❌❌❌❌❌❌❌❌❌❌❌❌❌❌❌❌❌❌❌❌❌❌❌❌❌❍❌❌❌❌❌❌❌❌❌❌❌❌❌❌❌❌ ❌❌❌❌❌❌❌❌❌❌❌❌❌❌❌❌❌❌❌❌❌❌❌❌❌❌❌❌❌❌❌❌❌❌❌❌❍❌❌❌❌❌❌❌❌❌❌❌❌❌❌❌ ❌❌❌❌❌❌❌❌❌❌❌❌❌❌❌❌❌❌❌❌❌❌❌❌❌❌❌❌❌❌❌❌❌❌❌❍❌❌❌❌❌❌❌❌❌❌❌❌❌❌❌❌ ❌❌❌❌❌❌❌❌❌❌❌❌❌❌❌❌❌❌❌❌❌❌❌❌❌❌❌❌❌❌❌❌❌❌❌❌❍❌❌❌❌❌❌❌❌❌❌❌❌❌❌❌ ❌❌❌❌❌❌❌❌❌❌❌❌❌❌❌❌❌❌❌❌❌❌❌❌❌❌❌❌❌❌❌❌❌❌❌❌❌❍❌❌❌❌❌❌❌❌❌❌❌❌❌❌ ❌❌❌❌❌❌❌❌❌❌❌❌❌❌❌❌❌❌❌❌❍❌❍❌❌❌❌❌❌❌❌❌❌❌❌❌❌❌❍❌❌❌❌❌❌❌❌❌❌❌❌❌ ❌❌❌❌❌❌❌❌❌❌❌❌❌❌❌❌❌❌❌❌❌❌❌❌❍❌❌❌❌❍❌❌❌❌❌❌❌❌❌❌❌❌❌❌❌❌❌❌❌❌❌❌ ❌❌❌❌❌❌❌❌❌❌❌❌❌❌❌❌❌❍❌❌❌❌❌❌❌❌❌❌❍❌❌❌❌❌❌❌❌❌❌❌❌❌❌❌❌❌❌❌❌❌❌❌ ❌❌❌❌❌❌❌❌❌❌❌❌❌❌❌❌❌❌❌❌❍❌❌❌❌❌❌❌❌❌❌❌❌❌❌❌❌❌❌❌❌❌❌❌❌❌❌❌❌❌❌❌ ❌❌❌❌❌❌❌❌❌❌❌❌❌❌❌❌❌❍❌❌❌❌❌❌❌❌❌❌❌❌❌❌❌❌❌❌❌❌❌❌❌❌❌❌❌❌❌❌❌❌❌❌ ❌❌❌❌❌❌❌❌❌❌❌❌❌❍❌❌❌❌❌❌❌❌❌❌❌❌❌❌❌❌❌❌❌❌❌❌❌❌❌❌❌❌❌❌❌❌❌❌❌❌❌❌ ❌❌❌❌❌❌❌❌❌❌❌❌❌❌❌❌❌❌❌❌❍❌❌❌❌❌❌❍❌❍❌❌❌❌❌❌❌❌❌❌❌❌❌❌❌❌❌❌❌❌❌❌ ❌❌❌❌❌❌❌❌❌❌❌❌❌❌❌❌❌❌❌❌❌❌❌❌❌❌❌❌❌❌❌❌❌❌❍❌❌❌❌❌❌❌❌❌❌❌❌❌❌❌❌❌ ❌❌❌❌❌❌❌❌❌❌❌❌❌❌❌❌❌❌❌❌❌❌❌❌❌❌❌❌❌❌❌❌❌❌❌❌❌❍❌❌❌❌❌❌❌❌❌❌❌❌❌❌ ❌❌❌❌❌❌❌❌❌❌❌❌❌❌❌❌❌❌❍❌❌❌❌❌❌❌❌❌❌❌❌❌❌❌❌❌❌❌❌❌❌❌❌❌❌❌❌❌❌❌❌❌ ❌❌❌❌❌❌❌❌❌❌❌❌❌❌❌❌❌❌❌❌❌❌❌❌❌❌❌❌❌❌❌❌❌❌❍❌❌❌❌❌❌❌❌❌❌❌❌❌❌❌❌❌ ❌❌❌❌❌❌❌❌❌❌❌❌❌❌❌❌❌❌❌❍❌❌❌❌❌❌❌❌❌❌❌❌❌❍❌❌❌❌❌❌❌❌❌❌❌❌❌❌❌❌❌❌ ❌❌❌❌❌❌❌❌❌❌❌❌❌❌❌❌❌❍❌❌❌❌❌❌❌❌❌❌❌❌❌❌❌❌❌❌❌❌❍❌❌❌❌❌❌❌❌❌❌❌❌❌ ❌❌❌❌❌❌❌❌❌❌❌❌❌❌❌❍❌❌❌❌❌❌❌❌❌❌❌❌❌❌❌❍❌❌❌❌❌❌❌❌❌❌❌❌❌❌❌❌❌❌❌❌ ❌❌❌❌❌❌❌❌❌❌❌❌❌❌❌❌❌❌❌❌❌❌❌❌❌❌❌❌❌❌❌❌❌❍❌❌❌❌❌❌❌❌❌❌❌❌❌❌❌❌❌❌ ❌❌❌❌❌❌❌❌❌❌❌❌❌❌❌❌❌❌❍❌❌❌❌❌❌❌❌❌❌❌❌❌❍❌❌❌❌❌❌❌❌❌❌❌❌❌❌❌❌❌❌❌ ❌❌❌❌❌❌❌❌❌❌❌❌❌❍❌❌❌❌❌❌❌❌❌❌❌❌❌❌❌❌❌❌❌❌❍❌❌❌❌❌❌❌❌❌❌❌❌❌❌❌❌❌ ❌❌❌❌❌❌❌❌❌❌❌❌❌❌❍❌❌❌❌❌❌❌❌❌❌❌❌❌❌❌❌❌❌❌❍❌❌❌❌❌❌❌❌❌❌❌❌❌❌❌❌❌ ❌❌❌❌❌❌❌❌❌❌❌❌❌❌❌❌❌❌❌❌❌❌❌❌❌❌❌❌❌❌❍❌❌❌❌❍❌❌❌❌❌❌❌❌❌❌❌❌❌❌❌❌ ❌❌❌❌❌❌❌❌❌❌❌❌❌❌❌❍❌❌❌❌❌❌❌❌❌❌❌❌❌❌❌❌❌❌❌❌❌❌❌❌❌❌❌❌❌❌❌❌❌❌❌❌ ❌❌❌❌❌❌❌❌❌❌❌❌❍❌❌❌❌❌❌❌❌❌❌❌❌❌❌❌❌❌❌❌❌❌❌❌❌❌❌❌❌❌❌❌❌❌❌❌❌❌❌❌ ❌❌❌❌❌❌❌❌❍❌❌❌❌❌❌❌❌❌❌❌❌❌❌❌❌❌❌❌❌❌❌❌❌❌❌❌❌❌❌❌❌❌❌❌❌❌❌❌❌❌❌❌ ❌❌❌❌❌❌❌❌❌❌❌❌❌❌❌❌❍❌❍❌❍❌❌❍❌❌❌❍❌❌❌❌❌❌❌❌❌❌❌❌❌❌❌❌❌❌❌❌❌❌❌❌', 3)\n",
      "\n",
      "Block size: [1, 2]\n",
      "\n",
      "('❌❌❌❌❌❌❌❌❌❌❌❌❌❌❌❎❌❌❌❌❌❌❌❌❌❌ ❌❌❌❌❌❌❌❌❌❍❌❌❌❌❌❍❌❌❌❌❌❌❌❌❌❌ ❌❌❌❌❌❌❌❌❌❌❎❌❌❌❌❌❌❌❌❌❌❌❌❌❌❌ ❌❌❌❌❌❌❌❌❌❎❌❌❌❌❌❎❌❌❌❌❌❌❌❌❌❌ ❌❌❌❌❌❌❌❌❌❌❍❌❌❌❌❌❌❌❌❌❌❌❌❌❌❌ ❌❌❌❌❌❌❌❌❍❌❌❌❌❌❌❍❌❌❌❌❌❌❌❌❌❌ ❌❌❌❌❌❌❎❌❌❌❌❌❌❌❌❌❌❌❌❌❌❌❌❌❌❌ ❌❌❌❌❎❌❌❌❌❌❌❌❌❌❌❌❌❌❌❌❌❌❌❌❌❌ ❌❌❌❌❌❌❌❌❌❎❌❎❌❌❏❎❌❌❌❌❌❌❌❌❌❌ ❌❌❌❌❌❌❌❌❌❌❌❌❌❌❌❍❌❌❌❌❌❌❌❌❌❌ ❌❌❌❌❌❌❌❌❌❌❌❌❌❌❌❌❌❌❎❌❌❌❌❌❌❌ ❌❌❌❌❌❌❌❌❌❌❌❎❌❌❌❌❍❌❌❌❌❌❌❌❌❌ ❌❌❌❌❌❌❌❌❌❌❌❌❌❌❌❌❌❍❌❌❌❌❌❌❌❌ ❌❌❌❌❌❌❌❌❌❌❌❌❍❌❌❌❎❌❌❌❌❌❌❌❌❌ ❌❌❌❌❌❌❌❌❌❌❌❍❌❌❌❎❌❌❌❌❌❌❌❌❌❌ ❌❌❌❌❌❌❌❌❌❌❍❌❌❌❌❎❌❌❌❌❌❌❌❌❌❌ ❌❌❌❌❌❌❌❌❌❌❌❌❌❌❌❌❎❌❌❌❌❌❌❌❌❌ ❌❌❌❌❌❌❌❌❌❌❌❎❌❌❌❌❍❌❌❌❌❌❌❌❌❌ ❌❌❌❌❌❌❌❌❌❍❌❌❌❌❌❍❌❌❌❌❌❌❌❌❌❌ ❌❌❌❌❌❌❌❌❌❎❌❌❌❌❍❌❌❌❌❌❌❌❌❌❌❌ ❌❌❌❌❌❌❌❌❌❌❌❌❌❌❌❎❌❌❌❌❌❌❌❌❌❌ ❌❌❌❌❌❌❌❌❌❌❍❌❌❌❌❌❌❌❌❌❌❌❌❌❌❌ ❌❌❌❌❌❌❌❌❎❌❌❌❌❌❌❌❌❌❌❌❌❌❌❌❌❌ ❌❌❌❌❌❌❎❌❌❌❌❌❌❌❌❌❌❌❌❌❌❌❌❌❌❌ ❌❌❌❌❌❌❌❌❌❌❍❍❌❌❌❎❌❌❌❌❌❌❌❌❌❌ ❌❌❌❌❌❌❌❌❌❌❌❌❌❌❌❌❌❍❌❌❌❌❌❌❌❌ ❌❌❌❌❌❌❌❌❌❌❌❌❌❌❌❌❎❌❌❌❌❌❌❌❌❌ ❌❌❌❌❌❌❌❌❌❌❌❌❌❌❌❌❌❍❌❌❌❌❌❌❌❌ ❌❌❌❌❌❌❌❌❌❌❌❌❌❌❌❌❌❎❌❌❌❌❌❌❌❌ ❌❌❌❌❌❌❌❌❌❌❌❌❌❌❌❌❌❌❍❌❌❌❌❌❌❌ ❌❌❌❌❌❌❌❌❌❌❌❌❌❌❌❌❌❎❌❌❌❌❌❌❌❌ ❌❌❌❌❌❌❌❌❌❌❌❌❌❌❌❌❌❌❍❌❌❌❌❌❌❌ ❌❌❌❌❌❌❌❌❌❌❌❌❌❌❌❌❌❌❎❌❌❌❌❌❌❌ ❌❌❌❌❌❌❌❌❌❌❍❍❌❌❌❌❌❌❌❍❌❌❌❌❌❌ ❌❌❌❌❌❌❌❌❌❌❌❌❌❌❌❌❎❌❌❌❌❌❌❌❌❌ ❌❌❌❌❌❌❌❌❌❌❌❌❌❌❌❌❌❍❌❌❌❌❌❌❌❌ ❌❌❌❌❌❌❌❌❌❌❌❌❌❌❌❌❌❎❌❌❌❌❌❌❌❌ ❌❌❌❌❌❌❌❌❌❌❌❌❌❌❌❌❌❌❍❌❌❌❌❌❌❌ ❌❌❌❌❌❌❌❌❌❌❌❌❌❌❌❌❌❎❌❌❌❌❌❌❌❌ ❌❌❌❌❌❌❌❌❌❌❌❌❌❌❌❌❌❌❍❌❌❌❌❌❌❌ ❌❌❌❌❌❌❌❌❌❌❌❌❌❌❌❌❌❌❎❌❌❌❌❌❌❌ ❌❌❌❌❌❌❌❌❌❌❍❍❌❌❌❌❌❌❌❍❌❌❌❌❌❌ ❌❌❌❌❌❌❌❌❌❌❌❌❍❌❎❌❌❌❌❌❌❌❌❌❌❌ ❌❌❌❌❌❌❌❌❎❌❌❌❌❌❍❌❌❌❌❌❌❌❌❌❌❌ ❌❌❌❌❌❌❌❌❌❌❍❌❌❌❌❌❌❌❌❌❌❌❌❌❌❌ ❌❌❌❌❌❌❌❌❎❌❌❌❌❌❌❌❌❌❌❌❌❌❌❌❌❌ ❌❌❌❌❌❌❎❌❌❌❌❌❌❌❌❌❌❌❌❌❌❌❌❌❌❌ ❌❌❌❌❌❌❌❌❌❌❍❌❌❎❎❌❌❌❌❌❌❌❌❌❌❌ ❌❌❌❌❌❌❌❌❌❌❌❌❌❌❌❌❌❍❌❌❌❌❌❌❌❌ ❌❌❌❌❌❌❌❌❌❌❌❌❌❌❌❌❌❌❎❌❌❌❌❌❌❌ ❌❌❌❌❌❌❌❌❌❍❌❌❌❌❌❌❌❌❌❌❌❌❌❌❌❌ ❌❌❌❌❌❌❌❌❌❌❌❌❌❌❌❌❌❍❌❌❌❌❌❌❌❌ ❌❌❌❌❌❌❌❌❌❎❌❌❌❌❌❌❎❌❌❌❌❌❌❌❌❌ ❌❌❌❌❌❌❌❌❎❌❌❌❌❌❌❌❌❌❌❍❌❌❌❌❌❌ ❌❌❌❌❌❌❌❎❌❌❌❌❌❌❌❎❌❌❌❌❌❌❌❌❌❌ ❌❌❌❌❌❌❌❌❌❌❌❌❌❌❌❌❎❌❌❌❌❌❌❌❌❌ ❌❌❌❌❌❌❌❌❌❍❌❌❌❌❌❌❍❌❌❌❌❌❌❌❌❌ ❌❌❌❌❌❌❎❌❌❌❌❌❌❌❌❌❌❍❌❌❌❌❌❌❌❌ ❌❌❌❌❌❌❌❍❌❌❌❌❌❌❌❌❌❍❌❌❌❌❌❌❌❌ ❌❌❌❌❌❌❌❌❌❌❌❌❌❌❌❍❌❎❌❌❌❌❌❌❌❌ ❌❌❌❌❌❌❌❎❌❌❌❌❌❌❌❌❌❌❌❌❌❌❌❌❌❌ ❌❌❌❌❌❌❍❌❌❌❌❌❌❌❌❌❌❌❌❌❌❌❌❌❌❌ ❌❌❌❌❍❌❌❌❌❌❌❌❌❌❌❌❌❌❌❌❌❌❌❌❌❌ ❌❌❌❌❌❌❌❌❍❍❍❎❌❎❌❌❌❌❌❌❌❌❌❌❌❌', 3)\n",
      "\n",
      "Block size: [1, 4]\n",
      "\n",
      "('❌❌❌❌❌❌❌❔❌❌❌❌❌ ❌❌❌❌❐❌❌❐❌❌❌❌❌ ❌❌❌❌❌❎❌❌❌❌❌❌❌ ❌❌❌❌❔❌❌❔❌❌❌❌❌ ❌❌❌❌❌❍❌❌❌❌❌❌❌ ❌❌❌❌❍❌❌❐❌❌❌❌❌ ❌❌❌❎❌❌❌❌❌❌❌❌❌ ❌❌❎❌❌❌❌❌❌❌❌❌❌ ❌❌❌❌❔❔❌❗❌❌❌❌❌ ❌❌❌❌❌❌❌❐❌❌❌❌❌ ❌❌❌❌❌❌❌❌❌❎❌❌❌ ❌❌❌❌❌❔❌❌❍❌❌❌❌ ❌❌❌❌❌❌❌❌❐❌❌❌❌ ❌❌❌❌❌❌❍❌❎❌❌❌❌ ❌❌❌❌❌❐❌❔❌❌❌❌❌ ❌❌❌❌❌❍❌❔❌❌❌❌❌ ❌❌❌❌❌❌❌❌❎❌❌❌❌ ❌❌❌❌❌❔❌❌❍❌❌❌❌ ❌❌❌❌❐❌❌❐❌❌❌❌❌ ❌❌❌❌❔❌❌❍❌❌❌❌❌ ❌❌❌❌❌❌❌❔❌❌❌❌❌ ❌❌❌❌❌❍❌❌❌❌❌❌❌ ❌❌❌❌❎❌❌❌❌❌❌❌❌ ❌❌❌❎❌❌❌❌❌❌❌❌❌ ❌❌❌❌❌❑❌❔❌❌❌❌❌ ❌❌❌❌❌❌❌❌❐❌❌❌❌ ❌❌❌❌❌❌❌❌❎❌❌❌❌ ❌❌❌❌❌❌❌❌❐❌❌❌❌ ❌❌❌❌❌❌❌❌❔❌❌❌❌ ❌❌❌❌❌❌❌❌❌❍❌❌❌ ❌❌❌❌❌❌❌❌❔❌❌❌❌ ❌❌❌❌❌❌❌❌❌❍❌❌❌ ❌❌❌❌❌❌❌❌❌❎❌❌❌ ❌❌❌❌❌❑❌❌❌❐❌❌❌ ❌❌❌❌❌❌❌❌❎❌❌❌❌ ❌❌❌❌❌❌❌❌❐❌❌❌❌ ❌❌❌❌❌❌❌❌❔❌❌❌❌ ❌❌❌❌❌❌❌❌❌❍❌❌❌ ❌❌❌❌❌❌❌❌❔❌❌❌❌ ❌❌❌❌❌❌❌❌❌❍❌❌❌ ❌❌❌❌❌❌❌❌❌❎❌❌❌ ❌❌❌❌❌❑❌❌❌❐❌❌❌ ❌❌❌❌❌❌❍❎❌❌❌❌❌ ❌❌❌❌❎❌❌❍❌❌❌❌❌ ❌❌❌❌❌❍❌❌❌❌❌❌❌ ❌❌❌❌❎❌❌❌❌❌❌❌❌ ❌❌❌❎❌❌❌❌❌❌❌❌❌ ❌❌❌❌❌❍❔❎❌❌❌❌❌ ❌❌❌❌❌❌❌❌❐❌❌❌❌ ❌❌❌❌❌❌❌❌❌❎❌❌❌ ❌❌❌❌❐❌❌❌❌❌❌❌❌ ❌❌❌❌❌❌❌❌❐❌❌❌❌ ❌❌❌❌❔❌❌❌❎❌❌❌❌ ❌❌❌❌❎❌❌❌❌❐❌❌❌ ❌❌❌❔❌❌❌❔❌❌❌❌❌ ❌❌❌❌❌❌❌❌❎❌❌❌❌ ❌❌❌❌❐❌❌❌❍❌❌❌❌ ❌❌❌❎❌❌❌❌❐❌❌❌❌ ❌❌❌❐❌❌❌❌❐❌❌❌❌ ❌❌❌❌❌❌❌❐❔❌❌❌❌ ❌❌❌❔❌❌❌❌❌❌❌❌❌ ❌❌❌❍❌❌❌❌❌❌❌❌❌ ❌❌❍❌❌❌❌❌❌❌❌❌❌ ❌❌❌❌❑❕❔❌❌❌❌❌❌', 3)\n",
      "\n",
      "Block size: [1, 8]\n",
      "\n",
      "('❌❌❌⟌❌❌ ❌❌❐➌❌❌ ❌❌❬❌❌❌ ❌❌❔⟌❌❌ ❌❌❜❌❌❌ ❌❌❍➌❌❌ ❌❬❌❌❌❌ ❌❎❌❌❌❌ ❌❌⟔⟼❌❌ ❌❌❌➌❌❌ ❌❌❌❌❬❌ ❌❌⟌❌❍❌ ❌❌❌❌❐❌ ❌❌❌❍❎❌ ❌❌➌⟌❌❌ ❌❌❜⟌❌❌ ❌❌❌❌❎❌ ❌❌⟌❌❍❌ ❌❌❐➌❌❌ ❌❌❔❜❌❌ ❌❌❌⟌❌❌ ❌❌❜❌❌❌ ❌❌❎❌❌❌ ❌❬❌❌❌❌ ❌❌➜⟌❌❌ ❌❌❌❌❐❌ ❌❌❌❌❎❌ ❌❌❌❌❐❌ ❌❌❌❌❔❌ ❌❌❌❌❜❌ ❌❌❌❌❔❌ ❌❌❌❌❜❌ ❌❌❌❌❬❌ ❌❌➜❌➌❌ ❌❌❌❌❎❌ ❌❌❌❌❐❌ ❌❌❌❌❔❌ ❌❌❌❌❜❌ ❌❌❌❌❔❌ ❌❌❌❌❜❌ ❌❌❌❌❬❌ ❌❌➜❌➌❌ ❌❌❌❭❌❌ ❌❌❎❜❌❌ ❌❌❜❌❌❌ ❌❌❎❌❌❌ ❌❬❌❌❌❌ ❌❌❜❴❌❌ ❌❌❌❌❐❌ ❌❌❌❌❬❌ ❌❌❐❌❌❌ ❌❌❌❌❐❌ ❌❌❔❌❎❌ ❌❌❎❌➌❌ ❌⟌❌⟌❌❌ ❌❌❌❌❎❌ ❌❌❐❌❍❌ ❌❬❌❌❐❌ ❌➌❌❌❐❌ ❌❌❌➌❔❌ ❌⟌❌❌❌❌ ❌❜❌❌❌❌ ❌❍❌❌❌❌ ❌❌⟡❔❌❌', 3)\n",
      "\n"
     ]
    }
   ],
   "source": [
    "block_sizes = [\n",
    "    [1, 1],\n",
    "    [1, 2],\n",
    "    [1, 4],\n",
    "    [1, 8],\n",
    "]\n",
    "\n",
    "print(\"SPARSE\")\n",
    "print()\n",
    "\n",
    "for enc_name in encoders.sparse_encoders.keys():\n",
    "    with open(f\"/home/abunn/ttmp/ExplorationWithLLMs/source/03_alec_temp_name/finetuning_data/{enc_name}.pkl\", \"rb\") as f:\n",
    "        x_train_encoded, y_train_encoded, x_valid_encoded, y_valid_encoded, x_test_encoded, y_test_encoded = pickle.load(f)\n",
    "    print(\"Encoder:\", enc_name)\n",
    "    print()\n",
    "    print((x_train_encoded[0], y_train_encoded[0]))\n",
    "    print()\n",
    "\n",
    "print(\"DENSE\")\n",
    "print()\n",
    "\n",
    "for block_size in block_sizes:\n",
    "    with open(f\"/home/abunn/ttmp/ExplorationWithLLMs/source/03_alec_temp_name/finetuning_data/dense_{block_size[0]}_{block_size[1]}.pkl\", \"rb\") as f:\n",
    "        x_train_encoded, y_train_encoded, x_valid_encoded, y_valid_encoded, x_test_encoded, y_test_encoded = pickle.load(f)\n",
    "    print(\"Block size:\", block_size)\n",
    "    print()\n",
    "    print((x_train_encoded[0], y_train_encoded[0]))\n",
    "    print()"
   ]
  },
  {
   "cell_type": "code",
   "execution_count": null,
   "id": "20c7f2ee",
   "metadata": {},
   "outputs": [],
   "source": []
  }
 ],
 "metadata": {
  "kernelspec": {
   "display_name": "EWLLMs",
   "language": "python",
   "name": "python3"
  },
  "language_info": {
   "codemirror_mode": {
    "name": "ipython",
    "version": 3
   },
   "file_extension": ".py",
   "mimetype": "text/x-python",
   "name": "python",
   "nbconvert_exporter": "python",
   "pygments_lexer": "ipython3",
   "version": "3.10.11"
  }
 },
 "nbformat": 4,
 "nbformat_minor": 5
}
