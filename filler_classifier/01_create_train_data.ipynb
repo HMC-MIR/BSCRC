{
 "cells": [
  {
   "attachments": {},
   "cell_type": "markdown",
   "metadata": {},
   "source": [
    "# Create Training Files 🏋️"
   ]
  },
  {
   "cell_type": "code",
   "execution_count": 1,
   "metadata": {},
   "outputs": [],
   "source": [
    "%matplotlib inline\n",
    "import glob\n",
    "import os\n",
    "import pickle\n",
    "import matplotlib.pyplot as plt\n",
    "from utils import *\n",
    "import numpy as np\n",
    "import glob\n",
    "import random\n",
    "from pathlib import Path"
   ]
  },
  {
   "attachments": {},
   "cell_type": "markdown",
   "metadata": {},
   "source": [
    "Before starting ensure that:\n",
    "\n",
    "1. You have downloaded the PDF sheet music scores from IMSLP\n",
    "2. Converted PDFs to PNG images.\n",
    "3. Extracted bootleg scores for each image in `score_feat`."
   ]
  },
  {
   "cell_type": "code",
   "execution_count": null,
   "metadata": {
    "vscode": {
     "languageId": "bat"
    }
   },
   "outputs": [],
   "source": [
    "filler_classifer/\n",
    "|--score_feat/\n",
    "  |--Bach/\n",
    "    |--00748/\n",
    "      |--00748-0.pkl\n",
    "      |--00748-1.pkl\n",
    "    |--00749/\n",
    "      |--00749-0.pkl\n",
    "      |--00749-1.pkl\n",
    "    ...\n",
    "  |--Beethoven/\n",
    "  |--Chopin/\n",
    "  ...\n",
    "|--cfg_files/\n",
    "  |--download_links.txt\n",
    "  |--filler.txt\n",
    "  |--pdfs.list"
   ]
  },
  {
   "attachments": {},
   "cell_type": "markdown",
   "metadata": {},
   "source": [
    "You should have the following directory structure. `cfg_files/` holds all our specific configuration files. `score_feat/` has specific directories for each composer (ie. `Bach/`). In each composer directory, there is a directory for each individual sheet music score (ie. `Bach/00748`). For each sheet music directory there is a pickle file for each pages of the sheet music score (ie. `Bach/00748/00748-0.pkl`). Each pickle file holds the bootleg score for that corresponding page."
   ]
  },
  {
   "cell_type": "code",
   "execution_count": 2,
   "metadata": {},
   "outputs": [],
   "source": [
    "# alternatively create this symlink\n",
    "if not os.path.exists(\"filler\"):\n",
    "    os.symlink(\"/home/apham/ttmp/filler\", \"filler\")"
   ]
  },
  {
   "attachments": {},
   "cell_type": "markdown",
   "metadata": {},
   "source": [
    "## 1. Get list of filler pages"
   ]
  },
  {
   "attachments": {},
   "cell_type": "markdown",
   "metadata": {},
   "source": [
    "`filler_list` represents the set of all unique \"filler\" pages. \n",
    "\n",
    "A single element contains the folder directory name that represents a single \"piece\" and the corresponding page number the filler page is from. \n",
    "\n",
    "For example, `117297-0` represents the `0th` page of piece labeled `117297`."
   ]
  },
  {
   "cell_type": "code",
   "execution_count": 3,
   "metadata": {},
   "outputs": [],
   "source": [
    "data_path = Path(\"filler\")\n",
    "filler_file = '../cfg_files/filler.txt'\n",
    "score_dir = data_path/'score_feat'"
   ]
  },
  {
   "cell_type": "code",
   "execution_count": 4,
   "metadata": {},
   "outputs": [],
   "source": [
    "def get_filler(filler_file, score_dir):\n",
    "    \"\"\"\n",
    "    Return a set of individual pages labeled as filler and ignore.\n",
    "    \"\"\"\n",
    "    filler, ignore = set(), set()\n",
    "    with open(filler_file, 'r') as f:\n",
    "        for line in f:\n",
    "            x = [x.strip() for x in line.strip().split('#')]\n",
    "            if len(x) > 1:\n",
    "                score_path = x[0] # e.g. Bach/00748\n",
    "                score_id = os.path.basename(score_path) # e.g. 00748\n",
    "                remove = x[1].strip('\"') # e.g. \"0,1,-2,-1\" or \"r\" or \"rl\"\n",
    "                if remove == 'r' or remove == 'ri': # remove all pages\n",
    "                    for file in glob.glob(f\"{score_dir}/{score_path}/*.pkl\"):\n",
    "                        page = os.path.splitext(os.path.basename(file))[0] # e.g. 00822-3\n",
    "                        if remove == 'r':\n",
    "                            filler.add(page)\n",
    "                        if remove == 'ri':\n",
    "                            ignore.add(page)\n",
    "                else:\n",
    "                    # are the number of pickle files the same as the number of pages\n",
    "                    num_pages = len(glob.glob(f\"{score_dir}/{score_path}/*.pkl\"))\n",
    "                    for str in remove.split(','):\n",
    "                        if \"i\" in str:\n",
    "                            page = (int(str.replace('i', '')) + num_pages) % num_pages\n",
    "                            ignore.add(f\"{score_id}-{page}\")\n",
    "                        else:\n",
    "                            page = (int(str) + num_pages) % num_pages\n",
    "                            filler.add(f\"{score_id}-{page}\")\n",
    "    return filler, ignore"
   ]
  },
  {
   "cell_type": "code",
   "execution_count": 5,
   "metadata": {},
   "outputs": [],
   "source": [
    "# set of filler pages: ie, '475019-7', '109490-6', '399774-11'\n",
    "filler_list, ignore_list = get_filler(filler_file, score_dir)"
   ]
  },
  {
   "attachments": {},
   "cell_type": "markdown",
   "metadata": {},
   "source": [
    "## 2. Get bscores matrices for nonfiller and filler pages"
   ]
  },
  {
   "attachments": {},
   "cell_type": "markdown",
   "metadata": {},
   "source": [
    "`feats` and `filler_feats` are both dictionaries that map a single composition directory (ie. `'score_feat/Haydn/475019/'`) to a list of bscore matrices.\n",
    "\n",
    "There is a single bscore matrix for each page that is not `None`. \n",
    "\n",
    "A single bscore matrix is of size $(62 \\times n)$ where $n$ is the number of features calculated on a single page of sheet music. "
   ]
  },
  {
   "cell_type": "code",
   "execution_count": 6,
   "metadata": {},
   "outputs": [],
   "source": [
    "def get_bootleg(score_dir, filler_list, ignore_list, remove_filler, remove_nonfiller):\n",
    "    '''\n",
    "    Extract bootleg score from all pages with a val score matrix.\n",
    "    Return a map from a piece directory to a list of bootleg scores for each page.\n",
    "    '''\n",
    "    res = {}\n",
    "    for dir in glob.glob(f\"{score_dir}/*/*/\"): # e.g. bootleg_score/Bach/00748/\n",
    "        piece = dir.split('/')[-2]\n",
    "        composer = dir.split('/')[-3]\n",
    "        features = [] # features from all pages in this score (or None if filler/no features extracted)\n",
    "        num_pages = len(glob.glob('{}/*.pkl'.format(dir)))\n",
    "        for i in range(num_pages):\n",
    "            file = f\"{dir}/{piece}-{i}.pkl\"\n",
    "            page = f\"{piece}-{i}\"\n",
    "            if page in ignore_list:\n",
    "                continue\n",
    "            if page in filler_list:\n",
    "                if remove_filler:\n",
    "                    features.append(None)\n",
    "                    continue\n",
    "            else:\n",
    "                if remove_nonfiller:\n",
    "                    features.append(None)\n",
    "                    continue\n",
    "            with open(file, 'rb') as f:\n",
    "                bscore = pickle.load(f)['bscore']\n",
    "            if bscore is None: # if None, no features were computed\n",
    "                features.append(None)\n",
    "            else:\n",
    "                features.append((bscore == 1, f\"{composer}/{piece}/{i}\")) # convert from float to bool to compress memory\n",
    "        if len(features) > 0:\n",
    "            res[dir] = features\n",
    "    return res"
   ]
  },
  {
   "cell_type": "code",
   "execution_count": 7,
   "metadata": {},
   "outputs": [],
   "source": [
    "nonfiller_feats = get_bootleg(score_dir, filler_list, ignore_list, remove_filler=True, remove_nonfiller=False)\n",
    "filler_feats = get_bootleg(score_dir, filler_list, ignore_list, remove_filler=False, remove_nonfiller=True)\n",
    "nonignore_feats = get_bootleg(score_dir, filler_list, ignore_list, remove_filler=False, remove_nonfiller=False)"
   ]
  },
  {
   "cell_type": "code",
   "execution_count": 8,
   "metadata": {},
   "outputs": [],
   "source": [
    "def plot_features(feats, title):\n",
    "    # count number of features per page\n",
    "    features = []\n",
    "    for dir in feats:\n",
    "        for page in feats[dir]:\n",
    "            if page is not None:\n",
    "                features.append(page[0].shape[1])\n",
    "    features = np.array(features)\n",
    "    # plot histogram\n",
    "    plt.subplot(2,1,1)\n",
    "    plt.hist(features, bins=100)\n",
    "    plt.xlabel('Number of Features In Single Page')\n",
    "    plt.ylabel('Frequency')\n",
    "    plt.title(title)\n",
    "    plt.show()"
   ]
  },
  {
   "attachments": {},
   "cell_type": "markdown",
   "metadata": {},
   "source": [
    "We plot the number of features in each page classified as non-filler and filler respectively."
   ]
  },
  {
   "cell_type": "code",
   "execution_count": 9,
   "metadata": {},
   "outputs": [
    {
     "data": {
      "image/png": "[encoded data removed]",
      "text/plain": [
       "<Figure size 640x480 with 1 Axes>"
      ]
     },
     "metadata": {},
     "output_type": "display_data"
    }
   ],
   "source": [
    "plot_features(nonfiller_feats, \"Non-filler Pages\")"
   ]
  },
  {
   "cell_type": "code",
   "execution_count": 10,
   "metadata": {},
   "outputs": [
    {
     "data": {
      "image/png": "[encoded data removed]",
      "text/plain": [
       "<Figure size 640x480 with 1 Axes>"
      ]
     },
     "metadata": {},
     "output_type": "display_data"
    }
   ],
   "source": [
    "plot_features(filler_feats, \"Filler Pages\")"
   ]
  },
  {
   "attachments": {},
   "cell_type": "markdown",
   "metadata": {},
   "source": [
    "## 3. Crate training/validation split in `train_val_page_split.pkl`"
   ]
  },
  {
   "attachments": {},
   "cell_type": "markdown",
   "metadata": {},
   "source": [
    "Of all the non-filler pieces, we allocate 60% to training and 40% to validation. The same split is done for filler pages.\n",
    "\n",
    "We save this data split in files named `train_val_page_split.pkl`. \n",
    "\n",
    "For `train_val_page_split.pkl`, we save:\n",
    "\n",
    "1) the original `feats` dictionary\n",
    "\n",
    "2) a dictionary of similiar structure consisting of all training bscore matrices that are not `None` \n",
    "\n",
    "3) a similiar dictionary for all validation bscore matrices that are not `None`. \n",
    "\n",
    "4) the composer, piece and page number information"
   ]
  },
  {
   "cell_type": "code",
   "execution_count": 11,
   "metadata": {},
   "outputs": [],
   "source": [
    "def all_none(l):\n",
    "    return all(v is None for v in l)\n",
    "\n",
    "def split_data(feats, train=.6, seed=420):\n",
    "    np.random.seed(seed)\n",
    "    dirs = list(feats.keys())\n",
    "    np.random.shuffle(dirs)\n",
    "    split = int(len(dirs) * train)\n",
    "    train_feats = {d:[p for p in feats[d] if p is not None] for d in dirs[0:split] if not all_none(feats[d])}\n",
    "    val_feats = {d:[p for p in feats[d] if p is not None] for d in dirs[split:] if not all_none(feats[d])}\n",
    "    return train_feats, val_feats"
   ]
  },
  {
   "cell_type": "code",
   "execution_count": 12,
   "metadata": {},
   "outputs": [],
   "source": [
    "# def find_best_seed(n=10000):\n",
    "#     res = []\n",
    "#     for i in range(0, n):\n",
    "#         train_feats, val_feats = split_data(feats, train=.5, seed=i)\n",
    "#         train_filler_feats, val_filler_feats = split_data(filler_feats, train=.5, seed=i)\n",
    "#         train_feats_num_pages = sum([len(train_feats[d]) for d in train_feats])\n",
    "#         val_feats_num_pages = sum([len(val_feats[d]) for d in val_feats])\n",
    "#         train_filler_feats_num_pages = sum([len(train_filler_feats[d]) for d in train_filler_feats])\n",
    "#         val_filler_feats_num_pages = sum([len(val_filler_feats[d]) for d in val_filler_feats])\n",
    "#         diff1 = abs(train_feats_num_pages-val_feats_num_pages)\n",
    "#         diff2 = abs(train_filler_feats_num_pages-val_filler_feats_num_pages)\n",
    "#         res.append((diff1+diff2, diff1, diff2, i))\n",
    "#     res.sort()\n",
    "#     for i in range(10):\n",
    "#         print(f'Seed {res[i][3]} has {res[i][0]} differences in pages. {res[i][1]} for non-filler and {res[i][2]} for filler')"
   ]
  },
  {
   "cell_type": "code",
   "execution_count": 13,
   "metadata": {},
   "outputs": [],
   "source": [
    "train_pages, val_pages = split_data(nonfiller_feats)\n",
    "train_filler_pages, val_filler_pages = split_data(filler_feats)"
   ]
  },
  {
   "cell_type": "code",
   "execution_count": 14,
   "metadata": {},
   "outputs": [],
   "source": [
    "save_to_pickle([train_pages, val_pages, train_filler_pages, val_filler_pages], data_path/\"train_val_page_split.pkl\")"
   ]
  },
  {
   "cell_type": "code",
   "execution_count": 15,
   "metadata": {},
   "outputs": [
    {
     "name": "stdout",
     "output_type": "stream",
     "text": [
      "3478 pages in train_pages\n",
      "2460 pages in val_pages\n",
      "160 pages in train_filler_pages\n",
      "99 pages in val_filler_pages\n"
     ]
    }
   ],
   "source": [
    "print(f'{sum([len(train_pages[d]) for d in train_pages])} pages in train_pages')\n",
    "print(f'{sum([len(val_pages[d]) for d in val_pages])} pages in val_pages')\n",
    "print(f'{sum([len(train_filler_pages[d]) for d in train_filler_pages])} pages in train_filler_pages')\n",
    "print(f'{sum([len(val_filler_pages[d]) for d in val_filler_pages])} pages in val_filler_pages')"
   ]
  },
  {
   "attachments": {},
   "cell_type": "markdown",
   "metadata": {},
   "source": [
    "## 4. Sample filler pages to get `N_filler_train` and `N_filler_val`"
   ]
  },
  {
   "attachments": {},
   "cell_type": "markdown",
   "metadata": {},
   "source": [
    "For each filler page, we sample all length $L=16$ fragments with $50\\%$ overlap. This dense sampling will augment our training and validation data. \n",
    "\n",
    "We sample filler pages from `train_filler_pages` and `val_filler_pages` in the same manner. \n",
    "\n",
    "We end up with `N_filler_train` and `N_filler_val` which represent tensors of shape $(1689, 62, 16)$ and $(1110, 62, 16)$ respectively.\n",
    "\n",
    "This means that there are $1689$ and $1110$ training and validation fragments respectively. Every fragment is a bscore matrix of size $(62, 16)$."
   ]
  },
  {
   "cell_type": "code",
   "execution_count": 16,
   "metadata": {},
   "outputs": [],
   "source": [
    "def sample_filler(feats, L=16):\n",
    "    res = []\n",
    "    pages = [page[0] for dir in feats for page in feats[dir]]\n",
    "    for page in pages:\n",
    "        for i in range(0, page.shape[1]-L, L//2):\n",
    "            res.append(page[:,i:i+L])\n",
    "    return np.array(res)"
   ]
  },
  {
   "cell_type": "code",
   "execution_count": 17,
   "metadata": {},
   "outputs": [],
   "source": [
    "L = 16\n",
    "N_filler_train = sample_filler(train_filler_pages, L)\n",
    "N_filler_val = sample_filler(val_filler_pages, L)"
   ]
  },
  {
   "cell_type": "code",
   "execution_count": 18,
   "metadata": {},
   "outputs": [
    {
     "name": "stdout",
     "output_type": "stream",
     "text": [
      "1689 training filler fragments with augmentation\n",
      "1110 validation filler fragments with augmentation\n"
     ]
    }
   ],
   "source": [
    "print(f'{N_filler_train.shape[0]} training filler fragments with augmentation')\n",
    "print(f'{N_filler_val.shape[0]} validation filler fragments with augmentation')"
   ]
  },
  {
   "attachments": {},
   "cell_type": "markdown",
   "metadata": {},
   "source": [
    "## 5. Sample non-filler pages to get `N_train` and `N_val`"
   ]
  },
  {
   "attachments": {},
   "cell_type": "markdown",
   "metadata": {},
   "source": [
    "For the training data, we want to ensure we have an equal number of filler and non-filler pages. Thus, for every filler page in `N_filler_train`, we sample a random fragment from a random piece from the training partition `train_feats`. This ensures all pieces are represented equally.\n",
    "\n",
    "The validation data is sampled in a similiar manner.\n",
    "\n",
    "We end up with `N_train` and `N_val` which represent tensors of shape $(1689, 62, 16)$ and $(1110, 62, 16)$ respectively.\n",
    "\n",
    "Notice this is the same shape of `N_filler_train` and `N_filler_val` respectively."
   ]
  },
  {
   "cell_type": "code",
   "execution_count": 19,
   "metadata": {},
   "outputs": [],
   "source": [
    "def sample_nonfiller(feats, filler, L=16):\n",
    "    np.random.seed(42)\n",
    "    res = []\n",
    "    pieces = [feats[dir] for dir in feats]\n",
    "    for _ in filler:\n",
    "        length = 0\n",
    "        while length < L:\n",
    "            piece = pieces[np.random.randint(len(pieces))]\n",
    "            page = piece[np.random.randint(len(piece))]\n",
    "            length = page[0].shape[1]\n",
    "        i = np.random.randint(length-L)\n",
    "        res.append(page[0][:,i:i+L])\n",
    "    return np.array(res)"
   ]
  },
  {
   "cell_type": "code",
   "execution_count": 20,
   "metadata": {},
   "outputs": [],
   "source": [
    "N_train = sample_nonfiller(train_pages, N_filler_train, L)\n",
    "N_val = sample_nonfiller(val_pages, N_filler_val, L)"
   ]
  },
  {
   "cell_type": "code",
   "execution_count": 21,
   "metadata": {},
   "outputs": [
    {
     "name": "stdout",
     "output_type": "stream",
     "text": [
      "shape of non-filler training data (1689, 62, 16)\n",
      "shape of non-filler validation data (1110, 62, 16)\n"
     ]
    }
   ],
   "source": [
    "print(f\"shape of non-filler training data {N_train.shape}\")\n",
    "print(f\"shape of non-filler validation data {N_val.shape}\")"
   ]
  },
  {
   "attachments": {},
   "cell_type": "markdown",
   "metadata": {},
   "source": [
    "## 6. Create `train_val_fragment_split.pkl` containing training/validation tensors"
   ]
  },
  {
   "attachments": {},
   "cell_type": "markdown",
   "metadata": {},
   "source": [
    "To construct `X_train`, we simply concatenate the `N_train` and `N_filler_train` tensors. \n",
    "\n",
    "We create a tensor of `y` labels where $y=1$ represents a filler page and $y=0$ otherwise. \n",
    "\n",
    "`X_val` and `Y_val` are created similiarly. We shuffle all these tensors.\n",
    "\n",
    "We then save `X_train`, `Y_train`, `X_val`, `Y_val` in `train_val_fragment_split.pkl`"
   ]
  },
  {
   "cell_type": "code",
   "execution_count": 22,
   "metadata": {},
   "outputs": [],
   "source": [
    "def make_labels(non_filler, filler):\n",
    "    zeros = np.zeros(non_filler.shape[0], dtype=int)\n",
    "    ones = np.ones(filler.shape[0], dtype=int)\n",
    "    X = np.concatenate([non_filler, filler], axis=0)\n",
    "    Y = np.concatenate([zeros, ones], axis=0)\n",
    "    i = np.arange(Y.shape[0])\n",
    "    np.random.seed(42)\n",
    "    np.random.shuffle(i)\n",
    "    return X[i,:,:], Y[i]"
   ]
  },
  {
   "cell_type": "code",
   "execution_count": 23,
   "metadata": {},
   "outputs": [],
   "source": [
    "X_train, Y_train = make_labels(N_train, N_filler_train)\n",
    "X_val, Y_val = make_labels(N_val, N_filler_val)"
   ]
  },
  {
   "cell_type": "code",
   "execution_count": 24,
   "metadata": {},
   "outputs": [
    {
     "name": "stdout",
     "output_type": "stream",
     "text": [
      "shape of X_train training data (3378, 62, 16)\n",
      "shape of Y_train training data (3378,)\n",
      "shape of X_val validation data (2220, 62, 16)\n",
      "shape of Y_val validation data (2220,)\n"
     ]
    }
   ],
   "source": [
    "print(f\"shape of X_train training data {X_train.shape}\")\n",
    "print(f\"shape of Y_train training data {Y_train.shape}\")\n",
    "print(f\"shape of X_val validation data {X_val.shape}\")\n",
    "print(f\"shape of Y_val validation data {Y_val.shape}\")"
   ]
  },
  {
   "cell_type": "code",
   "execution_count": 25,
   "metadata": {},
   "outputs": [],
   "source": [
    "save_to_pickle([X_train, Y_train, X_val, Y_val], data_path/\"train_val_fragment_split.pkl\")"
   ]
  },
  {
   "attachments": {},
   "cell_type": "markdown",
   "metadata": {},
   "source": [
    "Let's quickly visualize the bootleg scores for a couple filler and non-filler pages."
   ]
  },
  {
   "cell_type": "code",
   "execution_count": 26,
   "metadata": {},
   "outputs": [
    {
     "data": {
      "image/png": "[encoded data removed]",
      "text/plain": [
       "<Figure size 1000x1000 with 1 Axes>"
      ]
     },
     "metadata": {},
     "output_type": "display_data"
    }
   ],
   "source": [
    "visualize_bootleg(nonignore_feats['filler/score_feat/Liszt/516478/'][0][0])"
   ]
  },
  {
   "attachments": {},
   "cell_type": "markdown",
   "metadata": {},
   "source": [
    "## 7. Create fragment classification training `train.csv` and `valid.csv`"
   ]
  },
  {
   "attachments": {},
   "cell_type": "markdown",
   "metadata": {},
   "source": [
    "`train.csv` and `valid.csv` are used for classifier training. Labels are needed for this step when we use transfer learning on the language model to correctly classify fragments as filler and non-filler.\n",
    "\n",
    "Every line in the text file represents a single fragment. A fragment's bscore matrix is converted to a sequence of integer representations."
   ]
  },
  {
   "cell_type": "code",
   "execution_count": 27,
   "metadata": {},
   "outputs": [],
   "source": [
    "def generate_csv(x, y, outfile):\n",
    "    with open(outfile, 'w') as f:\n",
    "        f.write('label,text\\n')\n",
    "        for i in range(x.shape[0]):\n",
    "            ints = convert_binary_to_int(x[i,:,:])\n",
    "            line = ' '.join([str(i) for i in ints])\n",
    "            chars = convert_line_to_char_sequence(line)\n",
    "            f.write(f'{y[i]},{chars}\\n')\n",
    "    \n",
    "generate_csv(X_train, Y_train, data_path/\"finetune_fragment_train.csv\")\n",
    "generate_csv(X_val, Y_val, data_path/\"finetune_fragment_valid.csv\") "
   ]
  },
  {
   "cell_type": "code",
   "execution_count": 28,
   "metadata": {},
   "outputs": [
    {
     "name": "stdout",
     "output_type": "stream",
     "text": [
      "There are 3378 examples in finetune_fragment_train.csv\n"
     ]
    }
   ],
   "source": [
    "train_csv_lines = int(os.popen(f'wc -l filler/finetune_fragment_train.csv').read().split()[0])\n",
    "print(f\"There are {train_csv_lines-1} examples in finetune_fragment_train.csv\")"
   ]
  },
  {
   "cell_type": "code",
   "execution_count": 29,
   "metadata": {},
   "outputs": [
    {
     "name": "stdout",
     "output_type": "stream",
     "text": [
      "There are 2220 examples in finetune_fragment_valid.csv\n"
     ]
    }
   ],
   "source": [
    "valid_csv_lines = int(os.popen(f'wc -l filler/finetune_fragment_valid.csv').read().split()[0])\n",
    "print(f\"There are {valid_csv_lines-1} examples in finetune_fragment_valid.csv\")"
   ]
  },
  {
   "cell_type": "code",
   "execution_count": 30,
   "metadata": {},
   "outputs": [
    {
     "name": "stdout",
     "output_type": "stream",
     "text": [
      "label,text\n",
      "1,一一一丁一一一一 一乀一一一一一一 乀一一一一一一一 一一一一丁一一一 一一一丁一一一一 丠乀一一一一一一 一一一丐一一一一 一一丠一丠一一一 一丐一一丈一一一 一一一丠一一一一 一一一一一一一一 一一乀一一一一一 一丨一一一一一一 一一一一一一一一 一一一一一一一一 一一一一丠一一一\n",
      "0,一一一一一丠一一 一一一一一丠一一 一一一一一亀一一 一一一一一乀一一 一一一一一一丈一 一一乂一一一丁一 一一一一一一丄一 一亀丐一一一丂一 一一一一一乀一一 一一一一一丐一一 一一一一一丄一一 一一一一亀一一一 一一一一丠一一一 一一一一丈一一一 一一一乀一一一一 一一一一丁一一一\n",
      "0,一乀一一一丁一一 一一丁一亀一一一 一一丄一乀一一一 一一丐一一丂一一 一一亀一一丄一一 一一丐一一一一一 一一一丂一丁一一 一一丐一一一一一 一一丈一乀丄一一 一一丂一一一一一 一一丈一丐丂一一 一乀一一亀丁一一 一亀一一一丂一一 一一丈一一一一一 一丠一一亀一一一 一一丈一一一一一\n",
      "1,一乀丁一一一一一 一一乀一一一丄一 一一丰一一一一一 一一乀一一一一一 一一丠一一一一一 一一乀一一一一一 亠一丠一一亀丈一 亀乀丁一一一一一 乀一一一一一一一 乀一一一一亀丄一 一一一一一亀一一 乐亀一一乐一一一 一一一一一丐一一 丠一一一一丐一一 一一丐一一一一一 一乐一一一一一一\n",
      "0,一亀丂一一一一一 一一一一一亐一一 一丐一一一一一一 一一一一一両一一 亀一一一一一一一 一一一一亀丐一一 一亀丈一一乀一一 一乀丈一一亀一一 一一一一一一丁一 一一一一一乀一一 一一一一一亀一一 一一一一一丠一一 一乀丈一一亀一一 一亀丈一一乀一一 一一一一一亀一一 一一一一一丠一一\n",
      "1,一丐丈一一一一一 一一丈一一一一一 一一丈一丈一一一 一一丈一一一一一 一一丈一一一一一 一丐一一一一一一 一丐丈一一一一一 一丈丈一一一一一 一丈丈一一一一一 一丐一一一一一一 乜一一一什七一一 一习一一一一一一 一一丨一一一一一 一一丐一一一一一 一一丠一一一一一 一一丐一一一一一\n",
      "0,一一一一一丠一一 一一一一一丂一一 一一丈一一丁一一 一一一一亀一一一 一一一一乀一一一 一一丐一亀一一一 一一一一一丂一一 一一一一丠一一一 一一丂一一一一一 一一一一乀一一一 一一一一丐一一一 一一丄一丠一一一 一一一一亀一一一 一一一一丠一一一 一亀一一丠一一一 一一一一亀一一一\n",
      "1,一一一亀一一一一 一亀一丁一丈一一 一一一亀一一一一 丄丐乀一丐一一一 一丂丈一丂一一一 一一丄一一一一一 丆一一一丐一一一 一一一一一一一一 一一一一一丈一一 一一一一一丈一一 丂一一一一一一一 一一一一一一一一 一一一一一一一一 丂一一一一一一一 丈一丐一一一一一 丈丠一一丠一一一\n",
      "0,一一乀一一丁一一 一一一一一丂一一 一一丂一一丄一一 一一乀一一丈一一 一一丁一一丐一一 一一一一一乀一一 一乀一一一亀一一 一一丠一一丐一一 一一乀一一丈一一 一一一丁一一一一 一一一丂一一一一 一一一一丈亄一一 一一一一丐丠一一 一一一一亀丐一一 一一一一乀丈一一 一一一一丠丐一一\n"
     ]
    }
   ],
   "source": [
    "!head -n 10 filler/finetune_fragment_train.csv"
   ]
  },
  {
   "cell_type": "code",
   "execution_count": 31,
   "metadata": {},
   "outputs": [
    {
     "name": "stdout",
     "output_type": "stream",
     "text": [
      "label,text\n",
      "1,一一丸一丄一一一 一一丄一一一一一 一一丂一一一一一 一一丄一一一一一 一一丂一一一一一 一丈一一一一一一 一一万一一一一一 一一上一一一一一 一一仧一一一一一 一亀丆一一一一一 一一万一一一一一 一一乘一一一一一 一一乊一一一一一 一一丄一一一一一 一一乨一亀一一一 一一乘一乀一一一\n",
      "0,一一一一一乄丂一 一亠丈一一乄丂一 一一丕一乂丅一一 一一一一一丄丂一 一一一一一丄丂一 一一一一一丄丂一 丐丈一一一一一一 丐丈一一一一一一 一一一一一丁一一 丐丈一亀丨丁一一 丐丈一亀丨丁一一 丐丈一亀丨丁一一 丐丈一一一一一一 丐丈一一一一一一 丐丈一一一一一一 一一一一一丄一一\n",
      "0,一一一一乀一一一 一丈一一丠一一一 一丐一一一一一一 一丠一一一丈一一 一一一一一丄一一 一乀一一一丂一一 一一一一一丁一一 一一丠乂丄一一一 一一且一乀丅一一 一一丁一一一一一 一乀一一一一一一 一乀一一一一一一 一乀一一亀丢一一 一丠一一一丛一一 一丠一一一一一一 一丐一一一一一一\n",
      "0,丠丐一一亀一一一 一一丄一乀三一一 一一丠丄一丄一一 一一丁一一丈一一 一一丈丂乀丐一一 一一一一亀一一一 丠丐一一一丁一一 一一丂一亠丄一一 一一乀丈亀一一一 一亀一一一丁一一 一一丐丁亠丂一一 一一一一一丁一一 一丐丈一亀一一一 一一丈丄乐丈一一 一一丈丄一一一一 一一丈丄一一一一\n",
      "0,一一丈一丂丁一一 一一一一一丄一一 一一一一一丈一一 一一一一一丄一一 一一亀丂习丐一一 一一一一乀一一一 一一一丁亐一一一 一一亀丂丐丁一一 一一乀丁丐丂一一 一一亠一丐丈一一 一一乀丁丐丂一一 一一丂丁亐一一一 一一亄一么一一一 一一丄丁予丄一一 一一乄一丨丄一一 一一丅一亀一一一\n",
      "0,一丠一一一一一一 一丈一一丠丄丂一 一亠丄一一京丂一 一丂丠一一丈丄一 一乀丄一一亨丄一 一一丄一一丐丈一 一一丁一一一一一 一予丄一一亐上一 一丈丄一一亂乀一 一一丁一一一一一 一一专一乀丂一一 一丨丅一一一丢一 一一一一一丠丐一 一丢丁一一亡一一 一一一一一丂丁一 一一亄一一丢丁一\n",
      "0,一一一一亀一一一 一乀丐一一七一一 一一亀一一丁一一 一一一一一丂一一 一一一一丠一一一 一一丄丁亀丐一一 一一一乀亀丐一一 一一一一亀一一一 一乀丐一一丁一一 一一一一一丂一一 一一亀一一丁一一 一一一一一丂一一 一一一一丠一一一 一一一一一丁一一 一乀丐一丠丄一一 一一一一丠丄一一\n",
      "0,一一一一一丁一一 一一一一一丄一一 一一一一一丠一一 一一一一乀一一一 一一一一一丁一一 一一一一一丄一一 一一一一一丠一一 一一丕一亀丄一一 一一一一乀一一一 一一一一一丁一一 一一一一一丈一一 一一一一一丠一一 一一一一乀一一一 一一一一一丁一一 一一一一一丈一一 一一一一一丠一一\n",
      "0,一亀一乀丆一一一 一亀一乀上一一一 一乀一一一一一一 一亀一一一一一一 一一丈一丂一一一 一乀丒一乀丂一一 一一丅一一丨一一 一丠一丠三一一一 一丠一丠丅一一一 一丠一丠丅一一一 一丠一丠七一一一 一丠丐丠丅一一一 一丠一丠三一一一 一丢丐丐一一一一 一丠丐丐丄一一一 一丠丐一上一一一\n"
     ]
    }
   ],
   "source": [
    "!head -n 10 filler/finetune_fragment_valid.csv"
   ]
  },
  {
   "cell_type": "code",
   "execution_count": null,
   "metadata": {},
   "outputs": [],
   "source": []
  }
 ],
 "metadata": {
  "kernelspec": {
   "display_name": "Python 3 (ipykernel)",
   "language": "python",
   "name": "python3"
  },
  "language_info": {
   "codemirror_mode": {
    "name": "ipython",
    "version": 3
   },
   "file_extension": ".py",
   "mimetype": "text/x-python",
   "name": "python",
   "nbconvert_exporter": "python",
   "pygments_lexer": "ipython3",
   "version": "3.10.11"
  },
  "orig_nbformat": 4
 },
 "nbformat": 4,
 "nbformat_minor": 2
}
