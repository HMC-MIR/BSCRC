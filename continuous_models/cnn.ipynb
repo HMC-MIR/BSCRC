{
 "cells": [
  {
   "cell_type": "markdown",
   "metadata": {},
   "source": [
    "# CNN Model 🔍"
   ]
  },
  {
   "attachments": {},
   "cell_type": "markdown",
   "metadata": {},
   "source": [
    "### Imports"
   ]
  },
  {
   "cell_type": "code",
   "execution_count": 1,
   "metadata": {},
   "outputs": [],
   "source": [
    "import torch\n",
    "import torch.nn as nn\n",
    "import torch.nn.functional as F\n",
    "import matplotlib.pyplot as plt\n",
    "from tqdm.notebook import tqdm\n",
    "import os\n",
    "from pathlib import Path\n",
    "import json\n",
    "import transformers\n",
    "import numpy as np\n",
    "from utils import *\n",
    "import matplotlib as mpl\n",
    "from models import CNN9, CNN100\n",
    "mpl.rcParams['figure.dpi'] = 500\n",
    "mpl.rcParams['figure.figsize'] = [7, 5]\n",
    "mpl.rcParams['savefig.pad_inches'] = 0"
   ]
  },
  {
   "attachments": {},
   "cell_type": "markdown",
   "metadata": {},
   "source": [
    "## 9-way Composer"
   ]
  },
  {
   "cell_type": "code",
   "execution_count": 2,
   "metadata": {},
   "outputs": [],
   "source": [
    "output_model9_path = Path(\"./cnn9/\")\n",
    "output_model9_path.mkdir(exist_ok=True)\n",
    "batch_size = 64\n",
    "epochs = 48\n",
    "learning_rate = 5e-3\n",
    "seed = 42\n",
    "torch.manual_seed(seed)\n",
    "np.random.seed(seed)"
   ]
  },
  {
   "attachments": {},
   "cell_type": "markdown",
   "metadata": {},
   "source": [
    "### Load data and define model"
   ]
  },
  {
   "attachments": {},
   "cell_type": "markdown",
   "metadata": {},
   "source": [
    "$60/15/15$ split b/w train, val, test data\n",
    "\n",
    "\n",
    "$X, y$ are numpy arrays of size $(n, 64, 62), (n,)$ respectively"
   ]
  },
  {
   "cell_type": "code",
   "execution_count": 3,
   "metadata": {},
   "outputs": [],
   "source": [
    "train_dataset, val_dataset, test_dataset, label2id, id2label = create_dataset(\"/mnt/data0/BSCRC/data/9_way_dataset.pkl\", add_pad=False)\n",
    "trainloader = torch.utils.data.DataLoader(train_dataset, batch_size=batch_size, shuffle=True)\n",
    "valloader = torch.utils.data.DataLoader(val_dataset, batch_size=batch_size, shuffle=True)\n",
    "testloader = torch.utils.data.DataLoader(test_dataset, batch_size=batch_size, shuffle=True)"
   ]
  },
  {
   "cell_type": "code",
   "execution_count": null,
   "metadata": {},
   "outputs": [],
   "source": [
    "device = torch.device('cuda:0' if torch.cuda.is_available() else 'cpu')\n",
    "model9 = CNN9()\n",
    "if torch.cuda.device_count() > 1:\n",
    "    model9 = nn.DataParallel(model9)\n",
    "model9.to(device)\n",
    "\n",
    "optimizer = torch.optim.Adam(model9.parameters(), lr=learning_rate)\n",
    "criterion = nn.CrossEntropyLoss()"
   ]
  },
  {
   "cell_type": "markdown",
   "metadata": {},
   "source": [
    "### Train classifier"
   ]
  },
  {
   "cell_type": "code",
   "execution_count": null,
   "metadata": {},
   "outputs": [],
   "source": [
    "num_training_steps = len(trainloader) * epochs\n",
    "progress_bar = tqdm(range(num_training_steps))\n",
    "log_history = []\n",
    "lr_scheduler = transformers.get_scheduler(\n",
    "    name=\"linear\", optimizer=optimizer, num_warmup_steps=0, num_training_steps=num_training_steps\n",
    ")\n",
    "\n",
    "for epoch in range(epochs):\n",
    "\n",
    "    model9.train()\n",
    "    train_loss = 0.0\n",
    "    \n",
    "    # training loop\n",
    "    for data in trainloader:\n",
    "        inputs, labels = data[0].to(device), data[1].to(device)\n",
    "        optimizer.zero_grad() # zero the parameter gradients\n",
    "        outputs = model9(inputs)\n",
    "        loss = criterion(outputs, labels)\n",
    "        loss.backward()\n",
    "        optimizer.step()\n",
    "        lr_scheduler.step()\n",
    "        progress_bar.update(1)\n",
    "        train_loss += loss.item()\n",
    "\n",
    "    train_loss /= len(trainloader)\n",
    "    \n",
    "    model9.eval()\n",
    "    val_loss = 0.0\n",
    "    correct1, correct5, total = 0, 0, 0\n",
    "\n",
    "    # validation loop\n",
    "    with torch.no_grad():\n",
    "        for data in valloader:\n",
    "            inputs, labels = data[0].to(device), data[1].to(device)\n",
    "            outputs = model9(inputs)\n",
    "            loss = criterion(outputs, labels)\n",
    "            val_loss += loss.item()\n",
    "\n",
    "            _, top1 = torch.topk(outputs.data, k=1, dim=1)\n",
    "            _, top5 = torch.topk(outputs.data, k=5, dim=1)\n",
    "\n",
    "            total += labels.size(0)\n",
    "            correct1 += torch.sum(top1 == labels[:, None], dim=1).sum().item()\n",
    "            correct5 += torch.sum(top5 == labels[:, None], dim=1).sum().item()\n",
    "\n",
    "    val_loss /= len(valloader)\n",
    "    val_acc1 = correct1 / total\n",
    "    val_acc5 = correct5 / total\n",
    "\n",
    "    print(f\"Epoch: {epoch}, Train Loss: {train_loss:.3f}, Val Loss: {val_loss:.3f}, val_acc1: {val_acc1:.3f}, val_acc5: {val_acc5:.3f}\")\n",
    "    log_history.append({\"epoch\": epoch, \"train_loss\": train_loss, \"val_loss\": val_loss, \"val_acc1\": val_acc1, \"val_acc5\": val_acc5})\n",
    "    torch.save(model9.state_dict(), f\"{output_model9_path}/epoch_{epoch}.pth\")\n",
    "\n",
    "with open(output_model9_path/\"log_history.json\", \"w\") as f:\n",
    "    json.dump(log_history, f) "
   ]
  },
  {
   "cell_type": "markdown",
   "metadata": {},
   "source": [
    "### Plot training curves"
   ]
  },
  {
   "cell_type": "code",
   "execution_count": null,
   "metadata": {},
   "outputs": [],
   "source": [
    "def plot_train(path):\n",
    "\n",
    "    plt.style.use(\"ggplot\")\n",
    "\n",
    "    with open(path/\"log_history.json\", \"r\") as f:\n",
    "        log = json.load(f)\n",
    "\n",
    "    epochs = [metric['epoch'] for metric in log]\n",
    "    train_loss = [metric['train_loss'] for metric in log]\n",
    "    val_loss = [metric['val_loss'] for metric in log]\n",
    "    val_acc1 = [metric['val_acc1'] for metric in log]\n",
    "    val_acc5 = [metric['val_acc5'] for metric in log]\n",
    "\n",
    "    best_index = val_loss.index(min(val_loss))\n",
    "    best_acc_index = val_acc1.index(max(val_acc1))\n",
    "    \n",
    "    plt.plot(epochs, train_loss, color=\"royalblue\", label=f'Train (low {train_loss[best_index]:.3f})', linewidth=2.5)\n",
    "    plt.plot(epochs, val_loss, color=\"lightseagreen\", label=f'Validation (low {val_loss[best_index]:.3f})', linewidth=2.5)\n",
    "    plt.scatter(epochs, train_loss, color=\"royalblue\")\n",
    "    plt.scatter(epochs, val_loss, color=\"lightseagreen\")\n",
    "    plt.xlabel('Epoch')\n",
    "    plt.ylabel('Loss')\n",
    "    plt.tick_params(left=False, right=False)\n",
    "    plt.legend(fontsize=13, fancybox=True, borderpad=0.8, labelspacing=0.8, borderaxespad=1.8, framealpha=0.7, facecolor='white')\n",
    "    \n",
    "    print(f\"Lowest Validation Loss: {val_loss[best_index]:.5f}\")\n",
    "    print(f\"Corresponding Train Loss: {train_loss[best_index]:.5f}\")\n",
    "\n",
    "    print(f\"Best Validation Acc@1: {val_acc1[best_acc_index]:.5f}\")\n",
    "    print(f\"Corresponding Validation Acc@5: {val_acc5[best_acc_index]:.5f}\")\n",
    "    plt.show()"
   ]
  },
  {
   "cell_type": "code",
   "execution_count": null,
   "metadata": {},
   "outputs": [],
   "source": [
    "plot_train(output_model9_path)"
   ]
  },
  {
   "cell_type": "markdown",
   "metadata": {},
   "source": [
    "### Save last epoch validation/test predictions to disk"
   ]
  },
  {
   "cell_type": "code",
   "execution_count": null,
   "metadata": {},
   "outputs": [],
   "source": [
    "model9 = CNN9()\n",
    "model9.load_state_dict(torch.load(output_model9_path/\"epoch_47.pth\"))\n",
    "if torch.cuda.device_count() > 1:\n",
    "    model9 = nn.DataParallel(model9)\n",
    "model9.to(device)\n",
    "\n",
    "model9.eval()\n",
    "\n",
    "# validation evaluation loop\n",
    "val_preds, val_correct1, val_correct5, val_total = [], 0, 0, 0\n",
    "with torch.no_grad():\n",
    "    for data in valloader:\n",
    "        inputs, labels = data[0].to(device), data[1].to(device)\n",
    "        outputs = model9(inputs)\n",
    "\n",
    "        _, top1 = torch.topk(outputs.data, k=1, dim=1)\n",
    "        _, top5 = torch.topk(outputs.data, k=5, dim=1)\n",
    "\n",
    "        val_total += labels.size(0)\n",
    "        val_correct1 += torch.sum(top1 == labels[:, None], dim=1).sum().item()\n",
    "        val_correct5 += torch.sum(top5 == labels[:, None], dim=1).sum().item()\n",
    "\n",
    "        val_preds.append(outputs.logits.cpu().numpy())\n",
    "\n",
    "val_acc1 = correct1 / total\n",
    "val_acc5 = correct5 / total\n",
    "\n",
    "print(f\"Validation Accuracy Top 1: {val_acc1}\")\n",
    "print(f\"Validation Accuracy Top 5: {val_acc5}\")\n",
    "\n",
    "val_preds = np.concatenate(val_preds, axis=0)\n",
    "with open(f\"{output_model9_path}/val_preds.npy\", \"wb\") as f:\n",
    "    np.save(f, val_preds)"
   ]
  },
  {
   "cell_type": "code",
   "execution_count": null,
   "metadata": {},
   "outputs": [],
   "source": [
    "# test evaluation loop\n",
    "test_preds, test_correct1, test_correct5, test_total = [], 0, 0, 0\n",
    "with torch.no_grad():\n",
    "    for data in testloader:\n",
    "        inputs, labels = data[0].to(device), data[1].to(device)\n",
    "        outputs = model9(inputs)\n",
    "\n",
    "        _, top1 = torch.topk(outputs.data, k=1, dim=1)\n",
    "        _, top5 = torch.topk(outputs.data, k=5, dim=1)\n",
    "\n",
    "        test_total += labels.size(0)\n",
    "        test_correct1 += torch.sum(top1 == labels[:, None], dim=1).sum().item()\n",
    "        test_correct5 += torch.sum(top5 == labels[:, None], dim=1).sum().item()\n",
    "\n",
    "        test_preds.append(outputs.logits.cpu().numpy())\n",
    "\n",
    "test_acc1 = correct1 / total\n",
    "test_acc5 = correct5 / total\n",
    "\n",
    "print(f\"Test Accuracy Top 1: {test_acc1}\")\n",
    "print(f\"Test Accuracy Top 5: {test_acc5}\")\n",
    "\n",
    "test_preds = np.concatenate(test_preds, axis=0)\n",
    "with open(f\"{output_model9_path}/test_preds.npy\", \"wb\") as f:\n",
    "    np.save(f, test_preds)"
   ]
  },
  {
   "cell_type": "markdown",
   "metadata": {},
   "source": [
    "## 100-way Composer"
   ]
  },
  {
   "cell_type": "code",
   "execution_count": 5,
   "metadata": {},
   "outputs": [],
   "source": [
    "output_model100_path = Path(\"./cnn100/\")\n",
    "os.makedirs(output_model100_path , exist_ok=True)\n",
    "batch_size = 64\n",
    "epochs = 48\n",
    "learning_rate = 5e-3\n",
    "seed = 42\n",
    "torch.manual_seed(seed)\n",
    "np.random.seed(seed)"
   ]
  },
  {
   "cell_type": "markdown",
   "metadata": {},
   "source": [
    "### Load data and define model"
   ]
  },
  {
   "cell_type": "code",
   "execution_count": 6,
   "metadata": {},
   "outputs": [],
   "source": [
    "train_dataset, val_dataset, test_dataset, label2id, id2label = create_dataset(\"/mnt/data0/BSCRC/data/100_way_dataset.pkl\", add_pad=False)\n",
    "trainloader = torch.utils.data.DataLoader(train_dataset, batch_size=batch_size, shuffle=True)\n",
    "valloader = torch.utils.data.DataLoader(val_dataset, batch_size=batch_size, shuffle=True)\n",
    "testloader = torch.utils.data.DataLoader(test_dataset, batch_size=batch_size, shuffle=True)"
   ]
  },
  {
   "cell_type": "code",
   "execution_count": null,
   "metadata": {},
   "outputs": [],
   "source": [
    "device = torch.device('cuda:0' if torch.cuda.is_available() else 'cpu')\n",
    "model100 = CNN100()\n",
    "if torch.cuda.device_count() > 1:\n",
    "    model100 = nn.DataParallel(model9)\n",
    "model100.to(device)\n",
    "\n",
    "optimizer = torch.optim.Adam(model100.parameters(), lr=learning_rate)\n",
    "criterion = nn.CrossEntropyLoss()"
   ]
  },
  {
   "cell_type": "markdown",
   "metadata": {},
   "source": [
    "### Train classifier"
   ]
  },
  {
   "cell_type": "code",
   "execution_count": null,
   "metadata": {},
   "outputs": [],
   "source": [
    "num_training_steps = len(trainloader) * epochs\n",
    "progress_bar = tqdm(range(num_training_steps))\n",
    "log_history = []\n",
    "lr_scheduler = transformers.get_scheduler(\n",
    "    name=\"linear\", optimizer=optimizer, num_warmup_steps=0, num_training_steps=num_training_steps\n",
    ")\n",
    "\n",
    "for epoch in range(epochs):\n",
    "\n",
    "    model100.train()\n",
    "    train_loss = 0.0\n",
    "    \n",
    "    # training loop\n",
    "    for data in trainloader:\n",
    "        inputs, labels = data[0].to(device), data[1].to(device)\n",
    "        optimizer.zero_grad() # zero the parameter gradients\n",
    "        outputs = model100(inputs)\n",
    "        loss = criterion(outputs, labels)\n",
    "        loss.backward()\n",
    "        optimizer.step()\n",
    "        lr_scheduler.step()\n",
    "        progress_bar.update(1)\n",
    "        train_loss += loss.item()\n",
    "\n",
    "    train_loss /= len(trainloader)\n",
    "    \n",
    "    model100.eval()\n",
    "    val_loss = 0.0\n",
    "    correct1, correct5, total = 0, 0, 0\n",
    "\n",
    "    # validation loop\n",
    "    with torch.no_grad():\n",
    "        for data in valloader:\n",
    "            inputs, labels = data[0].to(device), data[1].to(device)\n",
    "            outputs = model100(inputs)\n",
    "            loss = criterion(outputs, labels)\n",
    "            val_loss += loss.item()\n",
    "\n",
    "            _, top1 = torch.topk(outputs.data, k=1, dim=1)\n",
    "            _, top5 = torch.topk(outputs.data, k=5, dim=1)\n",
    "\n",
    "            total += labels.size(0)\n",
    "            correct1 += torch.sum(top1 == labels[:, None], dim=1).sum().item()\n",
    "            correct5 += torch.sum(top5 == labels[:, None], dim=1).sum().item()\n",
    "\n",
    "    val_loss /= len(valloader)\n",
    "    val_acc1 = correct1 / total\n",
    "    val_acc5 = correct5 / total\n",
    "\n",
    "    print(f\"Epoch: {epoch}, Train Loss: {train_loss:.3f}, Val Loss: {val_loss:.3f}, val_acc1: {val_acc1:.3f}, val_acc5: {val_acc5:.3f}\")\n",
    "    log_history.append({\"epoch\": epoch, \"train_loss\": train_loss, \"val_loss\": val_loss, \"val_acc1\": val_acc1, \"val_acc5\": val_acc5})\n",
    "    torch.save(model100.state_dict(), f\"{output_model100_path}/epoch_{epoch}.pth\")\n",
    "\n",
    "with open(output_model100_path/\"log_history.json\", \"w\") as f:\n",
    "    json.dump(log_history, f) "
   ]
  },
  {
   "cell_type": "markdown",
   "metadata": {},
   "source": [
    "### Plot training curves"
   ]
  },
  {
   "cell_type": "markdown",
   "metadata": {},
   "source": [
    "plot_train(output_model100_path)"
   ]
  },
  {
   "cell_type": "markdown",
   "metadata": {},
   "source": [
    "### Save last epoch validation/test predictions to disk"
   ]
  },
  {
   "cell_type": "code",
   "execution_count": null,
   "metadata": {},
   "outputs": [],
   "source": [
    "model100 = CNN100()\n",
    "model100.load_state_dict(torch.load(output_model100_path/\"epoch_47.pth\"))\n",
    "if torch.cuda.device_count() > 1:\n",
    "    model100 = nn.DataParallel(model100)\n",
    "model100.to(device)\n",
    "\n",
    "model100.eval()\n",
    "\n",
    "# validation evaluation loop\n",
    "val_preds, val_correct1, val_correct5, val_total = [], 0, 0, 0\n",
    "with torch.no_grad():\n",
    "    for data in valloader:\n",
    "        inputs, labels = data[0].to(device), data[1].to(device)\n",
    "        outputs = model100(inputs)\n",
    "\n",
    "        _, top1 = torch.topk(outputs.data, k=1, dim=1)\n",
    "        _, top5 = torch.topk(outputs.data, k=5, dim=1)\n",
    "\n",
    "        val_total += labels.size(0)\n",
    "        val_correct1 += torch.sum(top1 == labels[:, None], dim=1).sum().item()\n",
    "        val_correct5 += torch.sum(top5 == labels[:, None], dim=1).sum().item()\n",
    "\n",
    "        val_preds.append(outputs.logits.cpu().numpy())\n",
    "\n",
    "val_acc1 = correct1 / total\n",
    "val_acc5 = correct5 / total\n",
    "\n",
    "print(f\"Validation Accuracy Top 1: {val_acc1}\")\n",
    "print(f\"Validation Accuracy Top 5: {val_acc5}\")\n",
    "\n",
    "val_preds = np.concatenate(val_preds, axis=0)\n",
    "with open(f\"{output_model100_path}/val_preds.npy\", \"wb\") as f:\n",
    "    np.save(f, val_preds)"
   ]
  },
  {
   "cell_type": "code",
   "execution_count": null,
   "metadata": {},
   "outputs": [],
   "source": [
    "# test evaluation loop\n",
    "test_preds, test_correct1, test_correct5, test_total = [], 0, 0, 0\n",
    "with torch.no_grad():\n",
    "    for data in testloader:\n",
    "        inputs, labels = data[0].to(device), data[1].to(device)\n",
    "        outputs = model100(inputs)\n",
    "\n",
    "        _, top1 = torch.topk(outputs.data, k=1, dim=1)\n",
    "        _, top5 = torch.topk(outputs.data, k=5, dim=1)\n",
    "\n",
    "        test_total += labels.size(0)\n",
    "        test_correct1 += torch.sum(top1 == labels[:, None], dim=1).sum().item()\n",
    "        test_correct5 += torch.sum(top5 == labels[:, None], dim=1).sum().item()\n",
    "\n",
    "        test_preds.append(outputs.logits.cpu().numpy())\n",
    "\n",
    "test_acc1 = correct1 / total\n",
    "test_acc5 = correct5 / total\n",
    "\n",
    "print(f\"Test Accuracy Top 1: {test_acc1}\")\n",
    "print(f\"Test Accuracy Top 5: {test_acc5}\")\n",
    "\n",
    "test_preds = np.concatenate(test_preds, axis=0)\n",
    "with open(f\"{output_model100_path}/test_preds.npy\", \"wb\") as f:\n",
    "    np.save(f, test_preds)"
   ]
  }
 ],
 "metadata": {
  "kernelspec": {
   "display_name": "Python 3",
   "language": "python",
   "name": "python3"
  },
  "language_info": {
   "codemirror_mode": {
    "name": "ipython",
    "version": 3
   },
   "file_extension": ".py",
   "mimetype": "text/x-python",
   "name": "python",
   "nbconvert_exporter": "python",
   "pygments_lexer": "ipython3",
   "version": "3.10.11"
  },
  "orig_nbformat": 4
 },
 "nbformat": 4,
 "nbformat_minor": 2
}
